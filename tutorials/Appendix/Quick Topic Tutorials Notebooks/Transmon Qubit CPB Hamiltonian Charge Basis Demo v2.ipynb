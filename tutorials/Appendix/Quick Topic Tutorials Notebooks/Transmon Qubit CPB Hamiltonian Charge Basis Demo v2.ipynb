{
 "cells": [
  {
   "cell_type": "markdown",
   "metadata": {},
   "source": [
    "# Modeling transmon qubit Cooper-pair box Hamiltonian in the charge basis "
   ]
  },
  {
   "cell_type": "markdown",
   "metadata": {},
   "source": [
    "Zlatko Minev, Christopher Warren, Nick Lanzillo 2021"
   ]
  },
  {
   "cell_type": "code",
   "execution_count": null,
   "metadata": {},
   "outputs": [],
   "source": [
    "%load_ext autoreload\n",
    "%autoreload 2\n",
    "%config IPCompleter.greedy = True\n",
    "%matplotlib inline\n",
    "%config Completer.use_jedi = False\n",
    "%config InlineBackend.figure_format = 'svg'\n",
    "\n",
    "from qiskit_metal.analyses.hamiltonian.transmon_charge_basis import Hcpb\n",
    "from qiskit_metal.analyses.hamiltonian.transmon_CPB_analytic import Hcpb_analytic\n",
    "import pandas as pd\n",
    "import matplotlib.pyplot as plt\n",
    "import numpy as np"
   ]
  },
  {
   "cell_type": "markdown",
   "metadata": {},
   "source": [
    "This module models the transmon qubit in the cooper-pair charge basis, assuming wrapped junction phase variable. The Hamiltonian is given by: \n",
    "\n",
    "$$\n",
    "\\hat{H}=4E_{C}\\left(\\hat{n}-n_{g}\\right)-E_{J}\\cos\\left(\\hat{\\phi}\\right)\\,,\n",
    "$$\n",
    "\n",
    "where $E_{C}$ is the charging energy, $E_{J}$ is the Josephson energy, $\\hat n$ is the number of Cooper pairs transferred between charge islands, $\\hat{\\phi}$ is the gauge-invariant phase difference between charge islands, and $n_{g}$ is effective offset charge of the device. Expressions for the charging energy, Josephson energy and offset charge can be written as:\n",
    "\n",
    "$$\n",
    "E_{C}=\\frac{e^{2}}{2C_{\\Sigma}}\\,,\\qquad n_{g}=-\\frac{C_{d}\\dot{\\Phi}_{s}\\left(t\\right)}{2e}\\:,\\qquad E_{J}=\\frac{\\phi_{0}^{2}}{L_{J}}\\,,\n",
    "$$\n",
    "\n",
    "where $C_{\\Sigma} = C_{J}+C_{B}+C_{g}$ (the sum of the Josephson capacitance, shunting capacitance and gate capacitance), $L_{J}$ is the inductance of the Josephson junction, and $\\phi$ is the magnetic flux. \n",
    "\n",
    "The variables are\n",
    "$$\n",
    "\\hat{\\phi}\\equiv\\frac{\\hat{\\Phi}}{\\phi_{0}},\\qquad\\hat{n}\\equiv\\frac{\\hat{Q}}{2e}\\,,\n",
    "$$\n",
    "\n",
    "Observe that $\\hat \\phi$ and $\\hat n$ are both dimensiuonless, and they obey the commutation relationship:\n",
    "\n",
    "$$\n",
    "[\\hat{\\phi}, \\hat{n}] = i\n",
    "$$\n",
    "\n",
    "\n",
    "The Hamiltonian can be written in the charge ($\\hat n$) basis as: \n",
    "\n",
    "$$H=4E_\\text{C}(\\hat{n}-n_g)^2-\\frac{1}{2}E_\\text{J}\\sum_n(|n\\rangle\\langle n+1|+\\text{h.c.}),$$\n",
    "Where $\\hat{n} = \\sum_{n=-\\inf}^{\\inf} |n\\rangle\\langle n|$\n",
    "\n",
    "TODO:\n",
    "1. describe variables. \n",
    "2. write down matrices in the charge basis.\n",
    "3. add class fort analytic solutoions\n",
    "4. compare\n",
    "\n",
    "\n",
    "### Hcpb class\n",
    "\n",
    "Hamiltonian-model Cooper pair box (Hcpb) class.\n",
    "\n",
    "Used to model analytically the CPB Hamiltonian quickly\n",
    "and efficiently. Solves in charge basis tridiagonal eigenvalue\n",
    "problem for arbitrary Ej, Ec, ng values.\n",
    "\n",
    "As long as nlevels remains fixed the number of charge states\n",
    "considered does not change and it does not recreate the arrays,\n",
    "just recomputes the properties\n",
    "\n",
    "Returns all properties of interest for the CPB.\n",
    "\n",
    "This model is closer to the analytic solution than the Duffing oscillator model.\n",
    "Can work backwards from target qubit parameters to get the Ej, Ec or use\n",
    "input Ej, Ec to find the spectrum of the Cooper Pair Box.\n",
    "\n",
    "    @author: Christopher Warren (Chalmers University of Technology), updated by Zlatko K. Minev (IBM Quantum)\n",
    "    @date: 2020, 2021\n",
    "\n",
    "\n"
   ]
  },
  {
   "cell_type": "markdown",
   "metadata": {},
   "source": [
    "## Let's model a transmon "
   ]
  },
  {
   "cell_type": "markdown",
   "metadata": {},
   "source": [
    "### Energy levels"
   ]
  },
  {
   "cell_type": "markdown",
   "metadata": {},
   "source": [
    "We can easily calculate the transition energy between states using the Hcpb class. Here, we define values of $E_{J}$, $E_{C}$ and $n_g$ and then calculate transition frequency between the first and second states as well as the anharmonicity. Units:  all energies in units of Mhz  (recall energy is ħω=hf)"
   ]
  },
  {
   "cell_type": "code",
   "execution_count": null,
   "metadata": {},
   "outputs": [],
   "source": [
    "H = Hcpb(nlevels=15, Ej=13971.3, Ec=295.2, ng=0.001)\n",
    "print(f\"\"\"\n",
    "Transmon frequencies \n",
    "\n",
    " ω01/2π = {H.fij(0,1): 6.0f} MHz\n",
    "   α/2π = {H.anharm(): 6.0f} MHz\n",
    "\"\"\")\n"
   ]
  },
  {
   "cell_type": "markdown",
   "metadata": {},
   "source": [
    "We can compare calculated eigenvalues with the analytic solutions by using the \"Hcpb_analytic\" class, which calculates the transmon eigenvalues analytically using Mathieu characteristic values instead of a matrix-based approach. Let's compare the calculated values of the lowest energy at zero offset charge in both cases:  "
   ]
  },
  {
   "cell_type": "code",
   "execution_count": null,
   "metadata": {},
   "outputs": [],
   "source": [
    "# this is using the Hcpb approach as above, solving the charge basis tridiagonal eigenvalue problem:\n",
    "H_test = Hcpb(nlevels=15, Ej=13971.3, Ec=295.2, ng=0.0)\n",
    "\n",
    "# this using the Hcpb_analytic class, which solves using the exact (analytic) solutions in terms of Mathieu characteristic values: \n",
    "H_test2 = Hcpb_analytic(Ej=13971.3, Ec=295.2, ng=0.0)\n",
    "\n",
    "# print and compare energies \n",
    "print(\"E0 (calculated):\", H_test.evalue_k(0))\n",
    "print(\"E0 (analytic):\", H_test2.evalue_k(0))\n",
    "print(\"Error:\", 100*(H_test2.evalue_k(0) - H_test.evalue_k(0)) / H_test2.evalue_k(0))\n"
   ]
  },
  {
   "cell_type": "markdown",
   "metadata": {},
   "source": [
    "As we can see above, the calculated transmon eigenvalues match extremely well. "
   ]
  },
  {
   "cell_type": "markdown",
   "metadata": {},
   "source": [
    "### Wavefunctions "
   ]
  },
  {
   "cell_type": "markdown",
   "metadata": {},
   "source": [
    "We can plot the eigenstates (wavefunctions) of the transmon qubit using the commands below: "
   ]
  },
  {
   "cell_type": "code",
   "execution_count": null,
   "metadata": {},
   "outputs": [],
   "source": [
    "import matplotlib.pyplot as plt\n",
    "for k in range (3):\n",
    "    ψ, θ = H.psi_k(k)\n",
    "    #plt.plot(θ, ψ.real+ψ.imag, label=f\"|{k}>\") # it's in either quadrature, but not both\n",
    "#plt.xlabel(\"Junction phase θ (wrapped in the interval [-π, π])\")\n",
    "#plt.ylabel(\"Re(ψ(θ))\")\n",
    "#plt.legend(title=\"Level\")"
   ]
  },
  {
   "source": [
    "### Verifying Orthonormality of the Wavefunctions"
   ],
   "cell_type": "markdown",
   "metadata": {}
  },
  {
   "cell_type": "markdown",
   "metadata": {},
   "source": [
    "We can verify the orthonormality of the wavefunctions. Let's first take the first two eigenstates and verify that their inner product is zero, thereby confirming orthogonality: "
   ]
  },
  {
   "cell_type": "code",
   "execution_count": null,
   "metadata": {},
   "outputs": [],
   "source": [
    "Psi0, theta0 = H.psi_k(0)\n",
    "Psi1, theta1 = H.psi_k(1)\n",
    "\n",
    "print(np.dot(Psi0,Psi1))"
   ]
  },
  {
   "source": [
    "QUESTION: WHY ISN'T THIS ZERO?"
   ],
   "cell_type": "markdown",
   "metadata": {}
  },
  {
   "cell_type": "markdown",
   "metadata": {},
   "source": [
    "Next, let's take the inner product of the first eigenstate with itself, checking that we get an output of unity:"
   ]
  },
  {
   "cell_type": "code",
   "execution_count": null,
   "metadata": {},
   "outputs": [],
   "source": [
    "print(np.dot(Psi0, Psi0))"
   ]
  },
  {
   "source": [
    "QUESTION: WHY ISN'T THIS ONE?"
   ],
   "cell_type": "markdown",
   "metadata": {}
  },
  {
   "cell_type": "markdown",
   "metadata": {},
   "source": [
    "# Qutip simulation "
   ]
  },
  {
   "cell_type": "markdown",
   "metadata": {},
   "source": [
    "##### Diagonal Hamiltonian\n",
    "\n",
    "Wrapper around Qutip to output the diagonalized\n",
    "Hamiltonian truncated up to n levels of the transmon\n",
    "for modeling"
   ]
  },
  {
   "cell_type": "code",
   "execution_count": null,
   "metadata": {},
   "outputs": [],
   "source": [
    "H.h0_to_qutip(6)"
   ]
  },
  {
   "cell_type": "markdown",
   "metadata": {},
   "source": [
    "##### Coupling and number operator\n",
    "Wrapper around Qutip to output the number operator (charge)\n",
    "for the Transmon Hamiltonian in the energy eigen-basis.\n",
    "Used for computing the\n",
    "coupling between other elements in the system."
   ]
  },
  {
   "cell_type": "code",
   "execution_count": null,
   "metadata": {},
   "outputs": [],
   "source": [
    "H.n_to_qutip(6)"
   ]
  },
  {
   "cell_type": "markdown",
   "metadata": {},
   "source": [
    "Add coupling"
   ]
  },
  {
   "cell_type": "markdown",
   "metadata": {},
   "source": [
    "# Experimental  "
   ]
  },
  {
   "cell_type": "markdown",
   "metadata": {},
   "source": [
    "TODO: \n",
    "Describe:\n",
    "Compare expeirmetnal fit and then get Ej and Ec then recoever alpha and freq and compare \n",
    "Should agree"
   ]
  },
  {
   "source": [
    "Let's use the \"params_from_spectrum\" function to calculate the target Ej and Ec values for a desired transmon frequency and anharmonicity: "
   ],
   "cell_type": "markdown",
   "metadata": {}
  },
  {
   "cell_type": "code",
   "execution_count": null,
   "metadata": {},
   "outputs": [],
   "source": [
    "# 13971.3, Ec=295.2\n",
    "ω, α = 5431, -341\n",
    "EjEc = H.params_from_spectrum(ω, α) # set self.Ej, Cj\n",
    "print(EjEc)\n",
    "print(\"transmon frequency:\", H.fij(0,1), \"anharmonicity:\", H.anharm())\n"
   ]
  },
  {
   "source": [
    "We can also calculate the value of Ej given the value of Ec and the transmon frequency:"
   ],
   "cell_type": "markdown",
   "metadata": {}
  },
  {
   "cell_type": "code",
   "execution_count": null,
   "metadata": {},
   "outputs": [],
   "source": [
    "Ec = H.params_from_freq_fixEC(ω, 295.17)\n",
    "print(\"Ec:\", Ec)"
   ]
  },
  {
   "source": [
    "This is a little bit off from 13971.3 listed above?"
   ],
   "cell_type": "markdown",
   "metadata": {}
  },
  {
   "source": [
    "%metal_heading New section on integrating sc_qubits. Do the above first before moving here.  <br><br><br><br><br><br><br>"
   ],
   "cell_type": "markdown",
   "metadata": {}
  },
  {
   "cell_type": "code",
   "execution_count": null,
   "metadata": {},
   "outputs": [],
   "source": [
    "import scqubits as scq"
   ]
  },
  {
   "cell_type": "code",
   "execution_count": null,
   "metadata": {},
   "outputs": [],
   "source": [
    "qubit = scq.Transmon(\n",
    "    EJ=13.97124102543,\n",
    "    EC=0.295179,\n",
    "    ng=0.001,\n",
    "    ncut=40,\n",
    "    truncated_dim=4     # after diagonalization, we will keep 3 levels\n",
    ")\n",
    "evals = qubit.eigenvals(evals_count=12)\n",
    "print(f\"freq = {(evals[1] - evals[0])* 1000:.0f} MHz\")\n",
    "print(f\"alpha = {((evals[2] - evals[1]) - (evals[1] - evals[0]))* 1000:.0f} MHz\")"
   ]
  },
  {
   "cell_type": "code",
   "execution_count": null,
   "metadata": {},
   "outputs": [],
   "source": [
    "qubit.plot_n_wavefunction()\n",
    "qubit.plot_phi_wavefunction(which=[0,1,2], mode='real')\n",
    "qubit.hamiltonian()"
   ]
  },
  {
   "cell_type": "code",
   "execution_count": null,
   "metadata": {},
   "outputs": [],
   "source": [
    "import numpy as np\n",
    "ng_list = np.linspace(-2, 2, 220)\n",
    "qubit.plot_evals_vs_paramvals('ng', ng_list, evals_count=6, subtract_ground=False);"
   ]
  },
  {
   "cell_type": "markdown",
   "metadata": {},
   "source": [
    "# Transmon and oscilaltor "
   ]
  },
  {
   "cell_type": "markdown",
   "metadata": {},
   "source": [
    "Interactions and interaction code - This i will send you when you are ready with the above?"
   ]
  },
  {
   "cell_type": "code",
   "execution_count": null,
   "metadata": {},
   "outputs": [],
   "source": []
  }
 ],
 "metadata": {
  "kernelspec": {
   "display_name": "Python 3",
   "language": "python",
   "name": "python3"
  },
  "language_info": {
   "codemirror_mode": {
    "name": "ipython",
    "version": 3
   },
   "file_extension": ".py",
   "mimetype": "text/x-python",
   "name": "python",
   "nbconvert_exporter": "python",
   "pygments_lexer": "ipython3",
   "version": "3.7.8"
  }
 },
 "nbformat": 4,
 "nbformat_minor": 4
}