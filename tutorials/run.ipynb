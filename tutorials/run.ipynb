{
 "cells": [
  {
   "cell_type": "markdown",
   "metadata": {},
   "source": [
    "## Import Qiskit Metal"
   ]
  },
  {
   "cell_type": "code",
   "execution_count": 1,
   "metadata": {},
   "outputs": [],
   "source": [
    "%load_ext autoreload\n",
    "%autoreload 2"
   ]
  },
  {
   "cell_type": "code",
   "execution_count": 2,
   "metadata": {},
   "outputs": [],
   "source": [
    "import qiskit_metal as metal\n"
   ]
  },
  {
   "cell_type": "code",
   "execution_count": 3,
   "metadata": {},
   "outputs": [],
   "source": [
    "from qiskit_metal import designs, draw\n",
    "from qiskit_metal import MetalGUI, Dict, open_docs\n"
   ]
  },
  {
   "cell_type": "code",
   "execution_count": 4,
   "metadata": {},
   "outputs": [
    {
     "name": "stderr",
     "output_type": "stream",
     "text": [
      "03:52PM 35s CRITICAL [_qt_message_handler]: line: 0, func: None(), file: None  WARNING: Window position outside any known screen, using primary screen\n",
      "\n",
      "04:01PM 13s CRITICAL [_qt_message_handler]: line: 0, func: None(), file: None  WARNING: Window position outside any known screen, using primary screen\n",
      "\n",
      "04:02PM 06s CRITICAL [_qt_message_handler]: line: 0, func: None(), file: None  WARNING: Window position outside any known screen, using primary screen\n",
      "\n"
     ]
    }
   ],
   "source": [
    "design = designs.DesignPlanar()\n",
    "gui = MetalGUI(design)"
   ]
  },
  {
   "cell_type": "code",
   "execution_count": null,
   "metadata": {},
   "outputs": [],
   "source": []
  },
  {
   "cell_type": "code",
   "execution_count": null,
   "metadata": {},
   "outputs": [],
   "source": [
    "from qiskit_metal.qlibrary.qubits.transmon_pocket import TransmonPocket\n",
    "from qiskit_metal.qlibrary.qubits import transmon_pocket\n",
    "import inspect\n"
   ]
  },
  {
   "cell_type": "code",
   "execution_count": null,
   "metadata": {},
   "outputs": [],
   "source": [
    "TransmonPocket.default_options['pos_x']"
   ]
  },
  {
   "cell_type": "code",
   "execution_count": null,
   "metadata": {},
   "outputs": [],
   "source": [
    "inspect.getmro(TransmonPocket)\n",
    "# for child in parents[len(parents) - 2::-1]:\n",
    "#     if hasattr(child, 'default_options'):\n",
    "#         print(child.default_options['pos_x'])"
   ]
  },
  {
   "cell_type": "code",
   "execution_count": null,
   "metadata": {},
   "outputs": [],
   "source": [
    "import importlib\n",
    "\n",
    "importlib.reload(transmon_pocket)"
   ]
  },
  {
   "cell_type": "code",
   "execution_count": null,
   "metadata": {},
   "outputs": [],
   "source": [
    "TransmonPocket.default_options['pos_x']"
   ]
  },
  {
   "cell_type": "code",
   "execution_count": null,
   "metadata": {},
   "outputs": [],
   "source": [
    "transmon_pocket.TransmonPocket.default_options['pos_x']"
   ]
  },
  {
   "cell_type": "code",
   "execution_count": null,
   "metadata": {},
   "outputs": [],
   "source": [
    "parents = inspect.getmro(TransmonPocket)\n",
    "for child in parents[len(parents) - 2::-1]:\n",
    "    if hasattr(child, 'default_options'):\n",
    "        print(child.default_options['pos_x'])\n"
   ]
  },
  {
   "cell_type": "code",
   "execution_count": null,
   "metadata": {},
   "outputs": [],
   "source": [
    "parents = inspect.getmro(transmon_pocket.TransmonPocket)\n",
    "for child in parents[len(parents) - 2::-1]:\n",
    "    if hasattr(child, 'default_options'):\n",
    "        print(child.default_options['pos_x'])"
   ]
  },
  {
   "cell_type": "code",
   "execution_count": null,
   "metadata": {},
   "outputs": [],
   "source": [
    "transmon_pocket.TransmonPocket.default_options['pos_x']"
   ]
  },
  {
   "cell_type": "code",
   "execution_count": null,
   "metadata": {},
   "outputs": [],
   "source": [
    "print(gui.ui.dockLibrary.library_model.file_system_watcher.files())\n",
    "print(gui.ui.dockLibrary.library_model.file_system_watcher.addPath(\"/Users/graceharperibm/metal_work/qiskit-metal/qiskit_metal/qlibrary/\"))\n",
    "print(gui.ui.dockLibrary.library_model.file_system_watcher.files())\n"
   ]
  },
  {
   "cell_type": "code",
   "execution_count": null,
   "metadata": {},
   "outputs": [],
   "source": [
    "index = gui.ui.dockLibrary.library_model.index(\"/Users/graceharperibm/metal_work/qiskit-metal/qiskit_metal/qlibrary/\")\n",
    "gui.ui.dockLibrary.library_model.data(index)"
   ]
  },
  {
   "cell_type": "markdown",
   "metadata": {},
   "source": [
    "## My First Quantum Component (QComponent)\n",
    "### A transmon qubit\n",
    "You can create a ready-made transmon qubit from the QComponent Library, `qiskit_metal.qlibrary.qubits`. \n",
    "`transmon_pocket.py` is the file containing our qubit so `transmon_pocket` is the module we import. \n",
    "The `TransmonPocket` class is our transmon qubit. Like all quantum components, `TransmonPocket` inherits from `QComponent` \n",
    "\n",
    "* Let's create a new qubit by creating an object of this class. "
   ]
  },
  {
   "cell_type": "code",
   "execution_count": null,
   "metadata": {},
   "outputs": [],
   "source": [
    "# Select a QComponent to create (The QComponent is a python class named `TransmonPocket`)\n",
    "from qiskit_metal.qlibrary.qubits.transmon_pocket import TransmonPocket\n",
    "\n",
    "\n",
    "q1 = TransmonPocket(design, 'Q1', options=dict(connection_pads=dict(a=dict()))) # Create a new Transmon Pocket object with name 'Q1' \n",
    "gui.rebuild()  # rebuild the design and plot \n",
    "\n",
    "gui.edit_component('Q1') # set Q1 as the editable component \n",
    "gui.autoscale() #resize GUI to see QComponent"
   ]
  },
  {
   "cell_type": "markdown",
   "metadata": {},
   "source": [
    "Let's see what the Q1 object looks like"
   ]
  },
  {
   "cell_type": "code",
   "execution_count": null,
   "metadata": {},
   "outputs": [],
   "source": [
    "q1 #print Q1 information"
   ]
  },
  {
   "cell_type": "markdown",
   "metadata": {},
   "source": [
    "#### What are the default options?\n",
    "The QComponent comes with some default options like the length of the pads for our transmon pocket.\n",
    "* Options are parsed internally by Qiskit Metal via the component's `make` function. \n",
    "* You can change option parameters from the gui or the script api. "
   ]
  },
  {
   "cell_type": "code",
   "execution_count": null,
   "metadata": {},
   "outputs": [],
   "source": [
    "%metal_print How do I edit options?  API or GUI"
   ]
  },
  {
   "cell_type": "markdown",
   "metadata": {},
   "source": [
    "You can now use the Metal GUI to edit, plot, and modify quantum components.\n",
    "Equivalently, you can also do everything from the Jupyter Notebooks/Python scripts (which call the Python API directly).\n",
    "The GUI is just calling the Python API for you.\n",
    "\n",
    "*You must use a string when setting options!"
   ]
  },
  {
   "cell_type": "code",
   "execution_count": null,
   "metadata": {},
   "outputs": [],
   "source": [
    "# Change options\n",
    "q1.options.pos_x = '0.5 mm'\n",
    "q1.options.pos_y = '0.25 mm'\n",
    "q1.options.pad_height = '225 um'\n",
    "q1.options.pad_width  = '250 um'\n",
    "q1.options.pad_gap    = '50 um'\n",
    "\n",
    "\n"
   ]
  },
  {
   "cell_type": "code",
   "execution_count": null,
   "metadata": {},
   "outputs": [],
   "source": [
    "gui.rebuild() # Update the component geoemtry, since we changed the options\n",
    "\n",
    "\n",
    "\n",
    "# Get a list of all the qcomponents in QDesign and then zoom on them.\n",
    "all_component_names = design.components.keys()\n",
    "\n",
    "gui.zoom_on_components(all_component_names)\n",
    "\n",
    "# An alternate way to view within GUI. If want to try it, remove the \"#\" from the beginning of line.\n",
    "#gui.autoscale() #resize GUI "
   ]
  },
  {
   "cell_type": "markdown",
   "metadata": {},
   "source": [
    "## Closing the Qiskit Metal GUI"
   ]
  },
  {
   "cell_type": "code",
   "execution_count": null,
   "metadata": {},
   "outputs": [],
   "source": [
    "gui.main_window.close()"
   ]
  },
  {
   "cell_type": "code",
   "execution_count": null,
   "metadata": {},
   "outputs": [],
   "source": []
  }
 ],
 "metadata": {
  "kernelspec": {
   "display_name": "nopyqode",
   "language": "python",
   "name": "nopyqode"
  },
  "language_info": {
   "codemirror_mode": {
    "name": "ipython",
    "version": 3
   },
   "file_extension": ".py",
   "mimetype": "text/x-python",
   "name": "python",
   "nbconvert_exporter": "python",
   "pygments_lexer": "ipython3",
   "version": "3.7.8"
  }
 },
 "nbformat": 4,
 "nbformat_minor": 4
}
